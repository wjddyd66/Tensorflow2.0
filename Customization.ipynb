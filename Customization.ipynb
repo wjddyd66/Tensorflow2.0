{
 "cells": [
  {
   "cell_type": "markdown",
   "metadata": {},
   "source": [
    "### Customization\n",
    "Tensorflow 2.0에 맞게 다시 Tensorflow를 살펴볼 필요가 있다고 느껴져서 <a href=\"https://www.tensorflow.org/?hl=ko\">Tensorflow 정식 홈페이지</a>에 나와있는 예제부터 전반적인 Tensorflow 사용법을 먼저 익히는 Post가 된다.  \n",
    "<br>"
   ]
  },
  {
   "cell_type": "markdown",
   "metadata": {},
   "source": [
    "#### 필요한 Library Import"
   ]
  },
  {
   "cell_type": "code",
   "execution_count": 1,
   "metadata": {},
   "outputs": [
    {
     "name": "stdout",
     "output_type": "stream",
     "text": [
      "True\n"
     ]
    }
   ],
   "source": [
    "from __future__ import absolute_import, division, print_function, unicode_literals\n",
    "import tensorflow as tf\n",
    "import matplotlib.pyplot as plt\n",
    "import os\n",
    "\n",
    "# Gpu 사용 가능 여부 출력\n",
    "print(tf.test.is_gpu_available())"
   ]
  },
  {
   "cell_type": "markdown",
   "metadata": {},
   "source": [
    "### Layers\n",
    "Tensorflow는 Keras API를 사용할 수 있고 이러한 Keras API 중 <code>tf.keras.layers</code>를 활용하여 쉽게 Layer를 구성할 수 있다.  \n",
    "위에서 사용한 Keras API는 하나의 Object로서 Layer를 반환하게 된다.  \n",
    "\n",
    "Keras의 Layers는 다음과 같은 정보로서 상세 정보를 확인할 수 있다.\n",
    "- <code>layers.variables</code>: Layers의 w(weight), b(bias)를 출력\n",
    "- <code>layers.trainable_variables</code>: Layers의 Training 가능한 w(weight), b(bias)를 출력\n",
    "- <code>layer.kernel</code>: Layers의 w(weight)를 출력\n",
    "- <code>layer.bias</code>: Layers의 b(bias)를 출력\n",
    "\n",
    "**기본적으로 Layer의 Variable은 자동으로 초기화가 된다.(Tensorflow 1.x처럼 초기화 선언을 하지 않아도 된다.)**"
   ]
  },
  {
   "cell_type": "code",
   "execution_count": 2,
   "metadata": {},
   "outputs": [
    {
     "name": "stdout",
     "output_type": "stream",
     "text": [
      "Layer Output 출력\n",
      "tf.Tensor(\n",
      "[[0. 0. 0. 0. 0. 0. 0. 0. 0. 0.]\n",
      " [0. 0. 0. 0. 0. 0. 0. 0. 0. 0.]\n",
      " [0. 0. 0. 0. 0. 0. 0. 0. 0. 0.]\n",
      " [0. 0. 0. 0. 0. 0. 0. 0. 0. 0.]\n",
      " [0. 0. 0. 0. 0. 0. 0. 0. 0. 0.]\n",
      " [0. 0. 0. 0. 0. 0. 0. 0. 0. 0.]\n",
      " [0. 0. 0. 0. 0. 0. 0. 0. 0. 0.]\n",
      " [0. 0. 0. 0. 0. 0. 0. 0. 0. 0.]\n",
      " [0. 0. 0. 0. 0. 0. 0. 0. 0. 0.]\n",
      " [0. 0. 0. 0. 0. 0. 0. 0. 0. 0.]], shape=(10, 10), dtype=float32)\n",
      "\n",
      "Layer 상세 정보 출력\n",
      "Layer Trainable Variable 출력\n",
      "[<tf.Variable 'dense/kernel:0' shape=(5, 10) dtype=float32, numpy=\n",
      "array([[ 0.49530905, -0.27961993,  0.07997888, -0.06890565,  0.62559813,\n",
      "         0.22413027,  0.5704424 , -0.078982  , -0.47299433,  0.4632601 ],\n",
      "       [-0.20451835,  0.4138841 , -0.5363495 ,  0.4727065 ,  0.02015269,\n",
      "        -0.6287243 ,  0.3744126 , -0.5255875 , -0.3383796 ,  0.37277132],\n",
      "       [-0.36810887,  0.00395703,  0.48337704,  0.28826225, -0.35905218,\n",
      "         0.26025045,  0.41176158, -0.58899885, -0.15647706, -0.13678929],\n",
      "       [-0.45444426, -0.3293416 ,  0.11857456,  0.45254236,  0.08342832,\n",
      "        -0.22865605,  0.24280143, -0.40484443, -0.5098287 , -0.21310443],\n",
      "       [ 0.15010816, -0.26026902,  0.48775285, -0.00598031,  0.38665432,\n",
      "         0.27864552,  0.54350907, -0.28224456,  0.5049084 ,  0.15450037]],\n",
      "      dtype=float32)>, <tf.Variable 'dense/bias:0' shape=(10,) dtype=float32, numpy=array([0., 0., 0., 0., 0., 0., 0., 0., 0., 0.], dtype=float32)>]\n",
      "\n",
      "Layer Variable 출력\n",
      "[<tf.Variable 'dense/kernel:0' shape=(5, 10) dtype=float32, numpy=\n",
      "array([[ 0.49530905, -0.27961993,  0.07997888, -0.06890565,  0.62559813,\n",
      "         0.22413027,  0.5704424 , -0.078982  , -0.47299433,  0.4632601 ],\n",
      "       [-0.20451835,  0.4138841 , -0.5363495 ,  0.4727065 ,  0.02015269,\n",
      "        -0.6287243 ,  0.3744126 , -0.5255875 , -0.3383796 ,  0.37277132],\n",
      "       [-0.36810887,  0.00395703,  0.48337704,  0.28826225, -0.35905218,\n",
      "         0.26025045,  0.41176158, -0.58899885, -0.15647706, -0.13678929],\n",
      "       [-0.45444426, -0.3293416 ,  0.11857456,  0.45254236,  0.08342832,\n",
      "        -0.22865605,  0.24280143, -0.40484443, -0.5098287 , -0.21310443],\n",
      "       [ 0.15010816, -0.26026902,  0.48775285, -0.00598031,  0.38665432,\n",
      "         0.27864552,  0.54350907, -0.28224456,  0.5049084 ,  0.15450037]],\n",
      "      dtype=float32)>, <tf.Variable 'dense/bias:0' shape=(10,) dtype=float32, numpy=array([0., 0., 0., 0., 0., 0., 0., 0., 0., 0.], dtype=float32)>]\n",
      "\n",
      "Layer Kernel 출력\n",
      "<tf.Variable 'dense/kernel:0' shape=(5, 10) dtype=float32, numpy=\n",
      "array([[ 0.49530905, -0.27961993,  0.07997888, -0.06890565,  0.62559813,\n",
      "         0.22413027,  0.5704424 , -0.078982  , -0.47299433,  0.4632601 ],\n",
      "       [-0.20451835,  0.4138841 , -0.5363495 ,  0.4727065 ,  0.02015269,\n",
      "        -0.6287243 ,  0.3744126 , -0.5255875 , -0.3383796 ,  0.37277132],\n",
      "       [-0.36810887,  0.00395703,  0.48337704,  0.28826225, -0.35905218,\n",
      "         0.26025045,  0.41176158, -0.58899885, -0.15647706, -0.13678929],\n",
      "       [-0.45444426, -0.3293416 ,  0.11857456,  0.45254236,  0.08342832,\n",
      "        -0.22865605,  0.24280143, -0.40484443, -0.5098287 , -0.21310443],\n",
      "       [ 0.15010816, -0.26026902,  0.48775285, -0.00598031,  0.38665432,\n",
      "         0.27864552,  0.54350907, -0.28224456,  0.5049084 ,  0.15450037]],\n",
      "      dtype=float32)>\n",
      "\n",
      "Layer Bias 출력\n",
      "<tf.Variable 'dense/bias:0' shape=(10,) dtype=float32, numpy=array([0., 0., 0., 0., 0., 0., 0., 0., 0., 0.], dtype=float32)>\n"
     ]
    }
   ],
   "source": [
    "# Layer 선언\n",
    "layer = tf.keras.layers.Dense(10, input_shape=(None, 5))\n",
    "# 선언한 Layer의 Input 부여\n",
    "output = layer(tf.zeros([10, 5]))\n",
    "print('Layer Output 출력')\n",
    "print(output)\n",
    "print()\n",
    "\n",
    "# Layer 상세 정보 출력\n",
    "print('Layer 상세 정보 출력')\n",
    "\n",
    "# Layer Trainable Variable 출력\n",
    "print('Layer Trainable Variable 출력')\n",
    "print(layer.trainable_variables)\n",
    "print()\n",
    "\n",
    "# Layer Variable 출력\n",
    "print('Layer Variable 출력')\n",
    "print(layer.variables)\n",
    "print()\n",
    "\n",
    "# Layer Kernel 출력\n",
    "print('Layer Kernel 출력')\n",
    "print(layer.kernel)\n",
    "print()\n",
    "\n",
    "# Layer Bias 출력\n",
    "print('Layer Bias 출력')\n",
    "print(layer.bias)"
   ]
  },
  {
   "cell_type": "markdown",
   "metadata": {},
   "source": [
    "#### Implementing custom layers\n",
    "사용자가 직접 Layer를 정의할 수 있다.  \n",
    "<code>tf.keras.layers.layer</code>를 상속받게 되고 상속받은 것 에서 사용하는 Function은 각각 다음과 같은 의미가 있다.\n",
    "- <code>init</code>: 필요한 매개변수를 입력 받는다.\n",
    "- <code>build</code>: 텐서의 크기를 얻고 남은 초기화를 진행할 수 있다.\n",
    "- <code>call</code>: 정방향 계산(forward computation)을 진행한다.\n",
    "\n"
   ]
  },
  {
   "cell_type": "code",
   "execution_count": 3,
   "metadata": {},
   "outputs": [
    {
     "name": "stdout",
     "output_type": "stream",
     "text": [
      "WARNING:tensorflow:From <ipython-input-3-dca95f207d65>:11: Layer.add_variable (from tensorflow.python.keras.engine.base_layer) is deprecated and will be removed in a future version.\n",
      "Instructions for updating:\n",
      "Please use `layer.add_weight` method instead.\n",
      "tf.Tensor(\n",
      "[[0. 0. 0.]\n",
      " [0. 0. 0.]\n",
      " [0. 0. 0.]\n",
      " [0. 0. 0.]\n",
      " [0. 0. 0.]\n",
      " [0. 0. 0.]\n",
      " [0. 0. 0.]\n",
      " [0. 0. 0.]\n",
      " [0. 0. 0.]\n",
      " [0. 0. 0.]], shape=(10, 3), dtype=float32)\n",
      "[<tf.Variable 'my_dense_layer/kernel:0' shape=(5, 3) dtype=float32, numpy=\n",
      "array([[ 0.26051825,  0.6137808 ,  0.4339798 ],\n",
      "       [ 0.5461435 ,  0.22355396, -0.29373354],\n",
      "       [ 0.83919996,  0.28862697, -0.12702477],\n",
      "       [-0.61377275, -0.2543987 , -0.3983108 ],\n",
      "       [ 0.6483756 , -0.7901958 , -0.79051566]], dtype=float32)>]\n"
     ]
    }
   ],
   "source": [
    "class MyDenseLayer(tf.keras.layers.Layer):\n",
    "    # 필요한 매개변수를 입력 받는다.\n",
    "    def __init__(self, num_outputs):\n",
    "        super(MyDenseLayer, self).__init__()\n",
    "        self.num_outputs = num_outputs\n",
    "    \n",
    "    # 변수를 정의한다.\n",
    "    def build(self, input_shape):\n",
    "        self.kernel = self.add_variable(\"kernel\",\n",
    "                                        shape=[int(input_shape[-1]),\n",
    "                                               self.num_outputs])\n",
    "    # Forward를 진행한다.        \n",
    "    def call(self, input):\n",
    "        return tf.matmul(input, self.kernel)\n",
    "\n",
    "layer = MyDenseLayer(3)\n",
    "print(layer(tf.zeros([10, 5])))\n",
    "print(layer.trainable_variables)"
   ]
  },
  {
   "cell_type": "markdown",
   "metadata": {},
   "source": [
    "#### Models: Composing layers\n",
    "<code>tf.keras.Model</code>을 상속받아 Model을 정의하게 된다.  \n",
    "이러헥 정의된 Model은 Model.fit(), Model.evaluate(), Model.save등 Keras Model에서 사용할 수 있는 Function을 사용할 수 있다."
   ]
  },
  {
   "cell_type": "code",
   "execution_count": 4,
   "metadata": {},
   "outputs": [
    {
     "name": "stdout",
     "output_type": "stream",
     "text": [
      "Model Output\n",
      "tf.Tensor(\n",
      "[[[[0. 0. 0.]\n",
      "   [0. 0. 0.]\n",
      "   [0. 0. 0.]]\n",
      "\n",
      "  [[0. 0. 0.]\n",
      "   [0. 0. 0.]\n",
      "   [0. 0. 0.]]]], shape=(1, 2, 3, 3), dtype=float32)\n",
      "\n",
      "Model Trainable Variables Name\n",
      "['resnet_identity_block/conv2d/kernel:0', 'resnet_identity_block/conv2d/bias:0', 'resnet_identity_block/batch_normalization/gamma:0', 'resnet_identity_block/batch_normalization/beta:0', 'resnet_identity_block/conv2d_1/kernel:0', 'resnet_identity_block/conv2d_1/bias:0', 'resnet_identity_block/batch_normalization_1/gamma:0', 'resnet_identity_block/batch_normalization_1/beta:0', 'resnet_identity_block/conv2d_2/kernel:0', 'resnet_identity_block/conv2d_2/bias:0', 'resnet_identity_block/batch_normalization_2/gamma:0', 'resnet_identity_block/batch_normalization_2/beta:0']\n",
      "\n",
      "self.conv2a(input_tensor) Trainable Variable Name\n",
      "<tf.Variable 'resnet_identity_block/conv2d/kernel:0' shape=(1, 1, 3, 1) dtype=float32, numpy=\n",
      "array([[[[-0.9847094 ],\n",
      "         [-0.1468122 ],\n",
      "         [-0.47501415]]]], dtype=float32)>\n",
      "<tf.Variable 'resnet_identity_block/conv2d/bias:0' shape=(1,) dtype=float32, numpy=array([0.], dtype=float32)>\n"
     ]
    }
   ],
   "source": [
    "class ResnetIdentityBlock(tf.keras.Model):\n",
    "    def __init__(self, kernel_size, filters):\n",
    "        super(ResnetIdentityBlock, self).__init__(name='')\n",
    "        filters1, filters2, filters3 = filters\n",
    "\n",
    "        self.conv2a = tf.keras.layers.Conv2D(filters1, (1, 1))\n",
    "        self.bn2a = tf.keras.layers.BatchNormalization()\n",
    "\n",
    "        self.conv2b = tf.keras.layers.Conv2D(filters2, kernel_size, padding='same')\n",
    "        self.bn2b = tf.keras.layers.BatchNormalization()\n",
    "\n",
    "        self.conv2c = tf.keras.layers.Conv2D(filters3, (1, 1))\n",
    "        self.bn2c = tf.keras.layers.BatchNormalization()\n",
    "\n",
    "    def call(self, input_tensor, training=False):\n",
    "        x = self.conv2a(input_tensor)\n",
    "        x = self.bn2a(x, training=training)\n",
    "        x = tf.nn.relu(x)\n",
    "\n",
    "        x = self.conv2b(x)\n",
    "        x = self.bn2b(x, training=training)\n",
    "        x = tf.nn.relu(x)\n",
    "\n",
    "        x = self.conv2c(x)\n",
    "        x = self.bn2c(x, training=training)\n",
    "\n",
    "        x += input_tensor\n",
    "        return tf.nn.relu(x)\n",
    "\n",
    "\n",
    "block = ResnetIdentityBlock(1, [1, 2, 3])\n",
    "print('Model Output')\n",
    "print(block(tf.zeros([1, 2, 3, 3])))\n",
    "print()\n",
    "\n",
    "print('Model Trainable Variables Name')\n",
    "print([x.name for x in block.trainable_variables])\n",
    "print()\n",
    "\n",
    "print('self.conv2a(input_tensor) Trainable Variable Name')\n",
    "print(block.trainable_variables[0])\n",
    "print(block.trainable_variables[1])"
   ]
  },
  {
   "cell_type": "markdown",
   "metadata": {},
   "source": [
    "위와 같은 Code는 <code>tf.keras.Sequential</code>을 사용하여 짧고 간결하게 구현할 수 있다.  \n",
    "많은 ML Model Code를 살펴보게 되면 Layer들이 반복되는 것을 알 수 있다.  \n",
    "개인적인 경험으로는 Keras에서 지원하는 Layer들을 활용하여 Model을 구성하는 것에 대해서 한계점을 느껴서 Layer를 Customizing하는 것은 전처리 단계외에는 없었던 것 같다."
   ]
  },
  {
   "cell_type": "code",
   "execution_count": 5,
   "metadata": {},
   "outputs": [
    {
     "data": {
      "text/plain": [
       "<tf.Tensor: id=754, shape=(1, 2, 3, 3), dtype=float32, numpy=\n",
       "array([[[[0., 0., 0.],\n",
       "         [0., 0., 0.],\n",
       "         [0., 0., 0.]],\n",
       "\n",
       "        [[0., 0., 0.],\n",
       "         [0., 0., 0.],\n",
       "         [0., 0., 0.]]]], dtype=float32)>"
      ]
     },
     "execution_count": 5,
     "metadata": {},
     "output_type": "execute_result"
    }
   ],
   "source": [
    "my_seq = tf.keras.Sequential([tf.keras.layers.Conv2D(1, (1, 1),\n",
    "                                                    input_shape=(\n",
    "                                                        None, None, 3)),\n",
    "                             tf.keras.layers.BatchNormalization(),\n",
    "                             tf.keras.layers.Conv2D(2, 1,\n",
    "                                                    padding='same'),\n",
    "                             tf.keras.layers.BatchNormalization(),\n",
    "                             tf.keras.layers.Conv2D(3, (1, 1)),\n",
    "                             tf.keras.layers.BatchNormalization()])\n",
    "my_seq(tf.zeros([1, 2, 3, 3]))"
   ]
  },
  {
   "cell_type": "markdown",
   "metadata": {},
   "source": [
    "### Custom training\n",
    "Tensorflow 2.0에서 Model을 Customizing하는 법도 배웠고 <a href=\"https://wjddyd66.github.io/tnesorflow2.0/Tensorflow2.0(6)/#eager-execution\">Eager execution</a>에서는 Gradient를 Customizing하는 법을 배웠다. 이미 Eager execution에서 Customizing하여 Training을 하는 법을 배웠으나 이번 Post에서는 다시 한번 복습하는 의미로서 Custom training에 대해서 배운다.  \n",
    "<br>\n",
    "\n",
    "#### Tensor Customizing\n",
    "Tensor는 상태가 없고, 변경 불가능한(immutable stateless) 객체이다.  \n",
    "이러한 Tensor에 직접적으로 연산을 하거나 Tensorflow에서 재공하는 <code>tf.assign</code>으로서 새로운 값을 주거나, 혹은 <code>tf.square</code>등으로 Tensor의 값을 특정 연산을 통하여 변경할 수 있다."
   ]
  },
  {
   "cell_type": "code",
   "execution_count": 6,
   "metadata": {},
   "outputs": [
    {
     "name": "stdout",
     "output_type": "stream",
     "text": [
      "tf.Tensor(\n",
      "[[2. 2. 2. 2. 2. 2. 2. 2. 2. 2.]\n",
      " [2. 2. 2. 2. 2. 2. 2. 2. 2. 2.]\n",
      " [2. 2. 2. 2. 2. 2. 2. 2. 2. 2.]\n",
      " [2. 2. 2. 2. 2. 2. 2. 2. 2. 2.]\n",
      " [2. 2. 2. 2. 2. 2. 2. 2. 2. 2.]\n",
      " [2. 2. 2. 2. 2. 2. 2. 2. 2. 2.]\n",
      " [2. 2. 2. 2. 2. 2. 2. 2. 2. 2.]\n",
      " [2. 2. 2. 2. 2. 2. 2. 2. 2. 2.]\n",
      " [2. 2. 2. 2. 2. 2. 2. 2. 2. 2.]\n",
      " [2. 2. 2. 2. 2. 2. 2. 2. 2. 2.]], shape=(10, 10), dtype=float32)\n",
      "\n",
      "v = tf.Variable(1.0) == 1.0?:  True\n",
      "v.assign(3.0) == 3.0?:  True\n",
      "v.assign(tf.square(v)) == 9.0?:  True\n"
     ]
    }
   ],
   "source": [
    "# 파이썬 구문 사용\n",
    "x = tf.zeros([10, 10])\n",
    "x += 2  # 이것은 x = x + 2와 같으며, x의 초기값을 변경하지 않습니다.\n",
    "print(x)\n",
    "print()\n",
    "\n",
    "\n",
    "v = tf.Variable(1.0)\n",
    "print('v = tf.Variable(1.0) == 1.0?: ', v.numpy() == 1.0)\n",
    "\n",
    "# 값을 재배열합니다.\n",
    "v.assign(3.0)\n",
    "print('v.assign(3.0) == 3.0?: ', v.numpy() == 3.0)\n",
    "\n",
    "# tf.square()와 같은 텐서플로 연산에 `v`를 사용하고 재할당합니다. \n",
    "v.assign(tf.square(v))\n",
    "print('v.assign(tf.square(v)) == 9.0?: ', v.numpy() == 9.0)"
   ]
  },
  {
   "cell_type": "markdown",
   "metadata": {},
   "source": [
    "#### Example: Fit a linear model\n",
    "간단한 Linear Model을 Customizing하고 Training을 실시한다.  \n",
    "다음의 과정으로 이루워진다.\n",
    "1. Define the model\n",
    "2. Define a loss function\n",
    "3. Obtain training data\n",
    "4. Run through the training data and use an \"optimizer\" to adjust the variables to fit the data\n",
    "\n",
    "<br>\n",
    "\n",
    "#### Define the model\n",
    "간단한 Linear Model인 y=Wx+b를 선언한다."
   ]
  },
  {
   "cell_type": "code",
   "execution_count": 7,
   "metadata": {},
   "outputs": [
    {
     "name": "stdout",
     "output_type": "stream",
     "text": [
      "15.0\n"
     ]
    }
   ],
   "source": [
    "class Model(object):\n",
    "    def __init__(self):\n",
    "        # Initialize the weights to `5.0` and the bias to `0.0`\n",
    "        # In practice, these should be initialized to random values (for example, with `tf.random.normal`)\n",
    "        self.W = tf.Variable(5.0)\n",
    "        self.b = tf.Variable(0.0)\n",
    "\n",
    "    def __call__(self, x):\n",
    "        return self.W * x + self.b\n",
    "\n",
    "model = Model()\n",
    "\n",
    "print(model(3.0).numpy()) # 3*5 + 0 = 15"
   ]
  },
  {
   "cell_type": "markdown",
   "metadata": {},
   "source": [
    "#### Define a loss function\n",
    "L2 Loss Function을 정의한다."
   ]
  },
  {
   "cell_type": "code",
   "execution_count": 8,
   "metadata": {},
   "outputs": [],
   "source": [
    "def loss(predicted_y, target_y):\n",
    "    return tf.reduce_mean(tf.square(predicted_y - target_y))"
   ]
  },
  {
   "cell_type": "markdown",
   "metadata": {},
   "source": [
    "#### Obtain training data\n",
    "y=3x+2+noise 의 Data의 분포로서 Dataset을 생성한다."
   ]
  },
  {
   "cell_type": "code",
   "execution_count": 9,
   "metadata": {},
   "outputs": [
    {
     "data": {
      "image/png": "[encoded data removed]",
      "text/plain": [
       "<Figure size 432x288 with 1 Axes>"
      ]
     },
     "metadata": {
      "needs_background": "light"
     },
     "output_type": "display_data"
    },
    {
     "name": "stdout",
     "output_type": "stream",
     "text": [
      "Current loss: 8.424005\n"
     ]
    }
   ],
   "source": [
    "# Data 선언\n",
    "TRUE_W = 3.0\n",
    "TRUE_b = 2.0\n",
    "NUM_EXAMPLES = 1000\n",
    "\n",
    "inputs  = tf.random.normal(shape=[NUM_EXAMPLES])\n",
    "noise   = tf.random.normal(shape=[NUM_EXAMPLES])\n",
    "outputs = inputs * TRUE_W + TRUE_b + noise\n",
    "\n",
    "# Visualization 확인\n",
    "plt.scatter(inputs, outputs, c='b',label='Target')\n",
    "plt.scatter(inputs, model(inputs), c='r',label='Model Output')\n",
    "plt.legend()\n",
    "plt.show()\n",
    "\n",
    "# Not Training Model(y=5x) Loss Function 확인\n",
    "print('Current loss: %1.6f' % loss(model(inputs), outputs).numpy())"
   ]
  },
  {
   "cell_type": "markdown",
   "metadata": {},
   "source": [
    "#### Define a training loop\n",
    "실질적인 Model의 Weight Update를 위한 Train()과 Epoch 횟수만큼 Training을 진행하게 된다.  \n",
    "<code>tf.GradientTape()</code>를 통하여 실질적인 미분값을 구한다.  \n",
    "Gradient Descent의 식을 살펴보게 되면 다음과 같다.  \n",
    "<p>$$\\theta = \\theta - \\alpha*\\frac{\\partial J(\\theta)}{\\partial \\theta}$$</p>\n",
    "\n",
    "아래 Code를 살펴보게 되면 위와 같은 식을 <code>t.gradient(current_loss, [model.W, model.b])</code>를 통하여 <span>$\\frac{\\partial J(\\theta)}{\\partial \\theta}$</span>값을 구한뒤 <code>model.W.assign_sub(learning_rate * dW)</code>를 통하여 <span>$\\theta = \\theta - \\alpha*\\frac{\\partial J(\\theta)}{\\partial \\theta}$</span>를 구현 하였다."
   ]
  },
  {
   "cell_type": "code",
   "execution_count": 10,
   "metadata": {},
   "outputs": [
    {
     "name": "stdout",
     "output_type": "stream",
     "text": [
      "Epoch  0: W=5.00 b=0.00, loss=8.42400\n",
      "Epoch  1: W=4.63 b=0.38, loss=5.86161\n",
      "Epoch  2: W=4.33 b=0.69, loss=4.17756\n",
      "Epoch  3: W=4.09 b=0.94, loss=3.07069\n",
      "Epoch  4: W=3.89 b=1.14, loss=2.34313\n",
      "Epoch  5: W=3.72 b=1.31, loss=1.86487\n",
      "Epoch  6: W=3.59 b=1.44, loss=1.55046\n",
      "Epoch  7: W=3.48 b=1.54, loss=1.34376\n",
      "Epoch  8: W=3.40 b=1.63, loss=1.20786\n",
      "Epoch  9: W=3.33 b=1.70, loss=1.11850\n"
     ]
    },
    {
     "data": {
      "image/png": "[encoded data removed]",
      "text/plain": [
       "<Figure size 432x288 with 1 Axes>"
      ]
     },
     "metadata": {
      "needs_background": "light"
     },
     "output_type": "display_data"
    }
   ],
   "source": [
    "# Model Train Step 정의\n",
    "def train(model, inputs, outputs, learning_rate):\n",
    "    with tf.GradientTape() as t:\n",
    "        current_loss = loss(model(inputs), outputs)\n",
    "    dW, db = t.gradient(current_loss, [model.W, model.b])\n",
    "    model.W.assign_sub(learning_rate * dW)\n",
    "    model.b.assign_sub(learning_rate * db)\n",
    "    \n",
    "# Model Training\n",
    "model = Model()\n",
    "\n",
    "# Collect the history of W-values and b-values to plot later\n",
    "Ws, bs = [], []\n",
    "epochs = range(10)\n",
    "for epoch in epochs:\n",
    "    Ws.append(model.W.numpy())\n",
    "    bs.append(model.b.numpy())\n",
    "    current_loss = loss(model(inputs), outputs)\n",
    "\n",
    "    train(model, inputs, outputs, learning_rate=0.1)\n",
    "    print('Epoch %2d: W=%1.2f b=%1.2f, loss=%2.5f' %(epoch, Ws[-1], bs[-1], current_loss))\n",
    "\n",
    "# Model Visualization\n",
    "plt.plot(epochs, Ws, 'r',\n",
    "         epochs, bs, 'b')\n",
    "plt.plot([TRUE_W] * len(epochs), 'r--',\n",
    "         [TRUE_b] * len(epochs), 'b--')\n",
    "plt.legend(['W', 'b', 'True W', 'True b'])\n",
    "plt.show()"
   ]
  },
  {
   "cell_type": "markdown",
   "metadata": {},
   "source": [
    "#### Example2: The Iris classification problem\n",
    "Iris Dataset을 Classification하는 Model을 Customizing하여서 구축하는 것을 목표로 한다.  \n",
    "다음과 같은 순서로서 구성된다.\n",
    "1. Import and parse the dataset\n",
    "2. Select the type of model\n",
    "3. Train the model\n",
    "4. Evaluate the model's effectiveness\n",
    "5. Use the trained model to make predictions\n",
    "\n",
    "<br>\n",
    "\n",
    "**Parse the dataset**  \n",
    "실질적인 Raw Dataset을 다운받고 Feature와 Label로서 분류한다.  \n",
    "Label은 꽃의 종류를 비교하는 Species가 되고 종류는 다음과 같다.\n",
    "- 0: Iris setosa\n",
    "- 1: Iris vesicolor\n",
    "- 2: Iris virginica\n",
    "\n"
   ]
  },
  {
   "cell_type": "code",
   "execution_count": 11,
   "metadata": {},
   "outputs": [
    {
     "name": "stdout",
     "output_type": "stream",
     "text": [
      "Local copy of the dataset file: /root/.keras/datasets/iris_training.csv\n",
      "120,4,setosa,versicolor,virginica\n",
      "6.4,2.8,5.6,2.2,2\n",
      "5.0,2.3,3.3,1.0,1\n",
      "4.9,2.5,4.5,1.7,2\n",
      "4.9,3.1,1.5,0.1,0\n",
      "5.7,3.8,1.7,0.3,0\n",
      "4.4,3.2,1.3,0.2,0\n",
      "5.4,3.4,1.5,0.4,0\n",
      "6.9,3.1,5.1,2.3,2\n",
      "6.7,3.1,4.4,1.4,1\n",
      "Features: ['sepal_length', 'sepal_width', 'petal_length', 'petal_width']\n",
      "Label: species\n"
     ]
    }
   ],
   "source": [
    "# Download Dataset\n",
    "train_dataset_url = \"https://storage.googleapis.com/download.tensorflow.org/data/iris_training.csv\"\n",
    "train_dataset_fp = tf.keras.utils.get_file(fname=os.path.basename(train_dataset_url),\n",
    "                                           origin=train_dataset_url)\n",
    "print(\"Local copy of the dataset file: {}\".format(train_dataset_fp))\n",
    "\n",
    "# Inspect the data\n",
    "!head {train_dataset_fp}\n",
    "\n",
    "# Define Feature and Label\n",
    "column_names = ['sepal_length', 'sepal_width', 'petal_length', 'petal_width', 'species']\n",
    "feature_names = column_names[:-1]\n",
    "label_name = column_names[-1]\n",
    "print(\"Features: {}\".format(feature_names))\n",
    "print(\"Label: {}\".format(label_name))\n",
    "class_names = ['Iris setosa', 'Iris versicolor', 'Iris virginica']"
   ]
  },
  {
   "cell_type": "markdown",
   "metadata": {},
   "source": [
    "**tf.data**  \n",
    "<a href=\"https://wjddyd66.github.io/tnesorflow2.0/Tensorflow2.0(3)/\">Load and preprocess Data</a>에서 설명한 <code>tf.data</code>를 활용하여 Dataset을 가공하여 Model에 넣은 Input Dataset으로서 구축한다."
   ]
  },
  {
   "cell_type": "code",
   "execution_count": 12,
   "metadata": {},
   "outputs": [
    {
     "name": "stdout",
     "output_type": "stream",
     "text": [
      "WARNING:tensorflow:From /root/miniconda3/lib/python3.7/site-packages/tensorflow_core/python/data/experimental/ops/readers.py:521: parallel_interleave (from tensorflow.python.data.experimental.ops.interleave_ops) is deprecated and will be removed in a future version.\n",
      "Instructions for updating:\n",
      "Use `tf.data.Dataset.interleave(map_func, cycle_length, block_length, num_parallel_calls=tf.data.experimental.AUTOTUNE)` instead. If sloppy execution is desired, use `tf.data.Options.experimental_determinstic`.\n",
      "Use tf.data.experimental.make_csv_dataset()\n",
      "Feature\n",
      "OrderedDict([('sepal_length', <tf.Tensor: id=1450, shape=(32,), dtype=float32, numpy=\n",
      "array([5. , 6.5, 5.1, 7.9, 6.4, 5.5, 5.4, 5.9, 5.6, 4.6, 4.9, 5.2, 4.9,\n",
      "       6.1, 4.9, 5. , 6.7, 5.4, 5.1, 5.9, 7.7, 4.8, 5.2, 5.7, 6.4, 4.9,\n",
      "       4.6, 6.1, 5. , 6.2, 6.3, 4.8], dtype=float32)>), ('sepal_width', <tf.Tensor: id=1451, shape=(32,), dtype=float32, numpy=\n",
      "array([3.4, 3. , 3.8, 3.8, 3.1, 2.4, 3.9, 3. , 2.5, 3.2, 2.4, 3.4, 2.5,\n",
      "       2.8, 3.1, 3.6, 3.1, 3.4, 3.7, 3.2, 2.8, 3.1, 2.7, 2.8, 2.8, 3.1,\n",
      "       3.1, 2.6, 3.5, 3.4, 2.3, 3.4], dtype=float32)>), ('petal_length', <tf.Tensor: id=1448, shape=(32,), dtype=float32, numpy=\n",
      "array([1.6, 5.8, 1.5, 6.4, 5.5, 3.8, 1.7, 5.1, 3.9, 1.4, 3.3, 1.4, 4.5,\n",
      "       4.7, 1.5, 1.4, 4.4, 1.5, 1.5, 4.8, 6.7, 1.6, 3.9, 4.5, 5.6, 1.5,\n",
      "       1.5, 5.6, 1.6, 5.4, 4.4, 1.6], dtype=float32)>), ('petal_width', <tf.Tensor: id=1449, shape=(32,), dtype=float32, numpy=\n",
      "array([0.4, 2.2, 0.3, 2. , 1.8, 1.1, 0.4, 1.8, 1.1, 0.2, 1. , 0.2, 1.7,\n",
      "       1.2, 0.1, 0.2, 1.4, 0.4, 0.4, 1.8, 2. , 0.2, 1.4, 1.3, 2.2, 0.1,\n",
      "       0.2, 1.4, 0.6, 2.3, 1.3, 0.2], dtype=float32)>)])\n",
      "Labels\n",
      "tf.Tensor([0 2 0 2 2 1 0 2 1 0 1 0 2 1 0 0 1 0 0 1 2 0 1 1 2 0 0 2 0 2 1 0], shape=(32,), dtype=int32)\n",
      "\n"
     ]
    },
    {
     "data": {
      "image/png": "[encoded data removed]",
      "text/plain": [
       "<Figure size 432x288 with 1 Axes>"
      ]
     },
     "metadata": {
      "needs_background": "light"
     },
     "output_type": "display_data"
    },
    {
     "name": "stdout",
     "output_type": "stream",
     "text": [
      "Use tf.stack\n",
      "Feature\n",
      "tf.Tensor(\n",
      "[[6.9 3.1 5.1 2.3]\n",
      " [5.8 2.7 5.1 1.9]\n",
      " [6.6 3.  4.4 1.4]\n",
      " [6.  2.2 5.  1.5]\n",
      " [5.4 3.9 1.3 0.4]], shape=(5, 4), dtype=float32)\n",
      "Labels\n",
      "tf.Tensor([2 2 1 2 0], shape=(5,), dtype=int32)\n"
     ]
    }
   ],
   "source": [
    "batch_size = 32\n",
    "\n",
    "train_dataset = tf.data.experimental.make_csv_dataset(\n",
    "    train_dataset_fp,\n",
    "    batch_size,\n",
    "    column_names=column_names,\n",
    "    label_name=label_name,\n",
    "    num_epochs=1)\n",
    "\n",
    "features, labels = next(iter(train_dataset))\n",
    "print('Use tf.data.experimental.make_csv_dataset()')\n",
    "print('Feature')\n",
    "print(features)\n",
    "print('Labels')\n",
    "print(labels)\n",
    "print()\n",
    "\n",
    "# Visualization\n",
    "scatter=plt.scatter(features['petal_length'],\n",
    "            features['sepal_length'],\n",
    "            c=labels,\n",
    "            cmap='viridis')\n",
    "\n",
    "plt.xlabel(\"Petal length\")\n",
    "plt.ylabel(\"Sepal length\")\n",
    "plt.show()\n",
    "\n",
    "# tf.stack\n",
    "def pack_features_vector(features, labels):\n",
    "    features = tf.stack(list(features.values()), axis=1)\n",
    "    return features, labels\n",
    "\n",
    "train_dataset = train_dataset.map(pack_features_vector)\n",
    "print('Use tf.stack')\n",
    "features, labels = next(iter(train_dataset))\n",
    "print('Feature')\n",
    "print(features[:5])\n",
    "print('Labels')\n",
    "print(labels[:5])"
   ]
  },
  {
   "cell_type": "markdown",
   "metadata": {},
   "source": [
    "**Build the model**  \n",
    "실제 Training을 할 Model을 설정한다.  \n",
    "Dense Layer로서 Fully-Connected Neural Network를 Build한다. 이러한 Model을 살펴보면 아래 그림과 같다.  \n",
    "<img src=\"https://www.tensorflow.org/images/custom_estimators/full_network.png\"><br>\n",
    "사진 출처: <a href=\"https://www.tensorflow.org/tutorials/customization/custom_training_walkthrough\">Tensroflow 2.0 Customization</a><br>"
   ]
  },
  {
   "cell_type": "code",
   "execution_count": 13,
   "metadata": {},
   "outputs": [
    {
     "name": "stdout",
     "output_type": "stream",
     "text": [
      "Output of Model(Not Train)\n",
      "tf.Tensor(\n",
      "[[ 0.82737595 -1.6107763  -0.11747895]\n",
      " [ 0.8870605  -1.5659739  -0.28924772]\n",
      " [ 0.5351423  -1.2628905  -0.02596872]\n",
      " [ 0.60821855 -1.362939   -0.10138126]\n",
      " [ 0.30034122 -0.7506314   0.67755103]], shape=(5, 3), dtype=float32)\n",
      "\n",
      "Prediction\n",
      "Prediction: [0 0 0 0 2 0 2 0 2 0 2 2 0 0 0 0 0 0 2 0 2 0 2 0 2 2 2 2 2 0 2 2]\n",
      "    Labels: [2 2 1 2 0 2 0 2 0 1 0 0 2 1 2 2 2 2 0 1 0 1 0 1 0 0 0 0 0 1 0 0]\n"
     ]
    }
   ],
   "source": [
    "# Build the Model\n",
    "model = tf.keras.Sequential([\n",
    "  tf.keras.layers.Dense(10, activation=tf.nn.relu, input_shape=(4,)),  # input shape required\n",
    "  tf.keras.layers.Dense(10, activation=tf.nn.relu),\n",
    "  tf.keras.layers.Dense(3)\n",
    "])\n",
    "\n",
    "# Prediction of Model(Not Train)\n",
    "predictions = model(features)\n",
    "print('Output of Model(Not Train)')\n",
    "print(predictions[:5])\n",
    "print()\n",
    "\n",
    "# Prediction\n",
    "print('Prediction')\n",
    "print(\"Prediction: {}\".format(tf.argmax(predictions, axis=1)))\n",
    "print(\"    Labels: {}\".format(labels))"
   ]
  },
  {
   "cell_type": "markdown",
   "metadata": {},
   "source": [
    "**Train the model**  \n",
    "Gradient Function정의, LossFunction 정의, Optimizer 정의"
   ]
  },
  {
   "cell_type": "code",
   "execution_count": 14,
   "metadata": {},
   "outputs": [
    {
     "name": "stdout",
     "output_type": "stream",
     "text": [
      "Loss test: 1.4487680196762085\n",
      "Step: 0, Initial Loss: 1.4487680196762085\n",
      "Step: 1,         Loss: 1.4180151224136353\n"
     ]
    }
   ],
   "source": [
    "# Loss Object 선언\n",
    "loss_object = tf.keras.losses.SparseCategoricalCrossentropy(from_logits=True)\n",
    "\n",
    "# Loss Function 정의\n",
    "def loss(model, x, y):\n",
    "    y_ = model(x)\n",
    "    return loss_object(y_true=y, y_pred=y_)\n",
    "\n",
    "l = loss(model, features, labels)\n",
    "print(\"Loss test: {}\".format(l))\n",
    "\n",
    "# Gradient 정의\n",
    "def grad(model, inputs, targets):\n",
    "    with tf.GradientTape() as tape:\n",
    "        loss_value = loss(model, inputs, targets)\n",
    "    return loss_value, tape.gradient(loss_value, model.trainable_variables)\n",
    "\n",
    "# Optimizer 정의\n",
    "optimizer = tf.keras.optimizers.SGD(learning_rate=0.01)\n",
    "\n",
    "# Training 결과 확인\n",
    "loss_value, grads = grad(model, features, labels)\n",
    "print(\"Step: {}, Initial Loss: {}\".format(optimizer.iterations.numpy(),\n",
    "                                          loss_value.numpy()))\n",
    "optimizer.apply_gradients(zip(grads, model.trainable_variables))\n",
    "print(\"Step: {},         Loss: {}\".format(optimizer.iterations.numpy(),\n",
    "                                          loss(model, features, labels).numpy()))"
   ]
  },
  {
   "cell_type": "markdown",
   "metadata": {},
   "source": [
    "**Training**  \n",
    "지정한 Epoch만큼 Model Training 진행"
   ]
  },
  {
   "cell_type": "code",
   "execution_count": 15,
   "metadata": {},
   "outputs": [
    {
     "name": "stdout",
     "output_type": "stream",
     "text": [
      "Epoch 000: Loss: 1.466, Accuracy: 0.833%\n",
      "Epoch 050: Loss: 0.577, Accuracy: 85.833%\n",
      "Epoch 100: Loss: 0.302, Accuracy: 96.667%\n",
      "Epoch 150: Loss: 0.192, Accuracy: 97.500%\n",
      "Epoch 200: Loss: 0.136, Accuracy: 98.333%\n"
     ]
    }
   ],
   "source": [
    "## Note: Rerunning this cell uses the same model variables\n",
    "\n",
    "# Keep results for plotting\n",
    "train_loss_results = []\n",
    "train_accuracy_results = []\n",
    "\n",
    "num_epochs = 201\n",
    "\n",
    "for epoch in range(num_epochs):\n",
    "    epoch_loss_avg = tf.keras.metrics.Mean()\n",
    "    epoch_accuracy = tf.keras.metrics.SparseCategoricalAccuracy()\n",
    "\n",
    "    # Training loop - using batches of 32\n",
    "    for x, y in train_dataset:\n",
    "        # Optimize the model\n",
    "        loss_value, grads = grad(model, x, y)\n",
    "        optimizer.apply_gradients(zip(grads, model.trainable_variables))\n",
    "\n",
    "        # Track progress\n",
    "        epoch_loss_avg(loss_value)  # Add current batch loss\n",
    "        # Compare predicted label to actual label\n",
    "        epoch_accuracy(y, model(x))\n",
    "\n",
    "    # End epoch\n",
    "    train_loss_results.append(epoch_loss_avg.result())\n",
    "    train_accuracy_results.append(epoch_accuracy.result())\n",
    "\n",
    "    if epoch % 50 == 0:\n",
    "        print(\"Epoch {:03d}: Loss: {:.3f}, Accuracy: {:.3%}\".format(epoch,\n",
    "                                                                    epoch_loss_avg.result(),\n",
    "                                                                    epoch_accuracy.result()))"
   ]
  },
  {
   "cell_type": "markdown",
   "metadata": {},
   "source": [
    "**Result Visualization**"
   ]
  },
  {
   "cell_type": "code",
   "execution_count": 16,
   "metadata": {},
   "outputs": [
    {
     "data": {
      "image/png": "[encoded data removed]",
      "text/plain": [
       "<Figure size 864x576 with 2 Axes>"
      ]
     },
     "metadata": {
      "needs_background": "light"
     },
     "output_type": "display_data"
    }
   ],
   "source": [
    "fig, axes = plt.subplots(2, sharex=True, figsize=(12, 8))\n",
    "fig.suptitle('Training Metrics')\n",
    "\n",
    "axes[0].set_ylabel(\"Loss\", fontsize=14)\n",
    "axes[0].plot(train_loss_results)\n",
    "\n",
    "axes[1].set_ylabel(\"Accuracy\", fontsize=14)\n",
    "axes[1].set_xlabel(\"Epoch\", fontsize=14)\n",
    "axes[1].plot(train_accuracy_results)\n",
    "plt.show()"
   ]
  },
  {
   "cell_type": "markdown",
   "metadata": {},
   "source": [
    "#### Evaluate the model's effectiveness\n",
    "Train된 Model을 평가하기 위해서 Training Dataset이 아닌 Test Dataset을 다시 구축하고 평가를 한다."
   ]
  },
  {
   "cell_type": "code",
   "execution_count": 17,
   "metadata": {},
   "outputs": [
    {
     "name": "stdout",
     "output_type": "stream",
     "text": [
      "Test set accuracy: 96.667%\n"
     ]
    }
   ],
   "source": [
    "# Test Dataset Download\n",
    "test_url = \"https://storage.googleapis.com/download.tensorflow.org/data/iris_test.csv\"\n",
    "test_fp = tf.keras.utils.get_file(fname=os.path.basename(test_url),\n",
    "                                  origin=test_url)\n",
    "\n",
    "# Split the Test Dataset Feature and Label\n",
    "test_dataset = tf.data.experimental.make_csv_dataset(\n",
    "    test_fp,\n",
    "    batch_size,\n",
    "    column_names=column_names,\n",
    "    label_name='species',\n",
    "    num_epochs=1,\n",
    "    shuffle=False)\n",
    "\n",
    "test_dataset = test_dataset.map(pack_features_vector)\n",
    "\n",
    "# Evaluate the model's effectiveness\n",
    "test_accuracy = tf.keras.metrics.Accuracy()\n",
    "\n",
    "for (x, y) in test_dataset:\n",
    "    logits = model(x)\n",
    "    prediction = tf.argmax(logits, axis=1, output_type=tf.int32)\n",
    "    test_accuracy(prediction, y)\n",
    "\n",
    "print(\"Test set accuracy: {:.3%}\".format(test_accuracy.result()))"
   ]
  }
 ],
 "metadata": {
  "kernelspec": {
   "display_name": "Python 3",
   "language": "python",
   "name": "python3"
  },
  "language_info": {
   "codemirror_mode": {
    "name": "ipython",
    "version": 3
   },
   "file_extension": ".py",
   "mimetype": "text/x-python",
   "name": "python",
   "nbconvert_exporter": "python",
   "pygments_lexer": "ipython3",
   "version": "3.7.4"
  }
 },
 "nbformat": 4,
 "nbformat_minor": 2
}
