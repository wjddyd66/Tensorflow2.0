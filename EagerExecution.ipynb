{
 "cells": [
  {
   "cell_type": "markdown",
   "metadata": {},
   "source": [
    "### Eager execution\n",
    "Tensorflow 2.0에 맞게 다시 Tensorflow를 살펴볼 필요가 있다고 느껴져서 <a href=\"https://www.tensorflow.org/?hl=ko\">Tensorflow 정식 홈페이지</a>에 나와있는 예제부터 전반적인 Tensorflow 사용법을 먼저 익히는 Post가 된다.  \n",
    "<br>"
   ]
  },
  {
   "cell_type": "markdown",
   "metadata": {},
   "source": [
    "#### 필요한 Library Import"
   ]
  },
  {
   "cell_type": "code",
   "execution_count": 93,
   "metadata": {},
   "outputs": [],
   "source": [
    "from __future__ import absolute_import, division, print_function, unicode_literals\n",
    "import os\n",
    "import time\n",
    "import cProfile\n",
    "import numpy as np\n",
    "import tensorflow as tf\n",
    "import matplotlib.pyplot as plt\n",
    "from tensorflow.python.client import device_lib"
   ]
  },
  {
   "cell_type": "markdown",
   "metadata": {},
   "source": [
    "### Eager execution\n",
    "Code 참조: <a href=\"https://www.tensorflow.org/guide/eager\">Tensorflow Core Eager execution</a>\n",
    "<br>\n",
    "\n",
    "#### What is Eager execution\n",
    "**Eager execution**은 imperative programing(명령형 프로그래밍) environment이다.  \n",
    "즉, Graph를 Define하고 RUN하기 전에 계산된 Value를 확인할 수 있는 환경인 것 이다.  \n",
    "Pytorch와 Tensorflow를 비교한 Post <a href=\"https://wjddyd66.github.io/pytorch/Pytorch-Basic/\">Pytorch-Basic</a>를 살펴보게 되면 Tensorflow 는 static Graph(Define and RUN), Pytorch는 dynamic Graph(Define by RUN)라고 설명하였다.  \n",
    "따라서 Pytorch의 경우에는 Graph를 돌리기 이전에 값을 확인하면서 사용자가 좀 더 쉽게 Debugging이 가능했던 이점을 Tensorflow 2.0에서는 Eager execution을 통하여 지원하는 모습이다.  \n",
    "\n",
    "이러한 **Eager execution**의 기능을 Tensorflow 2.0에서는 다음과 같이 설명하고 있다.  \n",
    ">1. An intuitive interface—Structure your code naturally and use Python data structures. Quickly iterate on small models and small data.\n",
    "2. Easier debugging—Call ops directly to inspect running models and test changes. Use standard Python debugging tools for immediate error reporting.\n",
    "3. Natural control flow—Use Python control flow instead of graph control flow, simplifying the specification of dynamic models.\n",
    ">\n",
    "\n",
    "1. Intuitive Interface: Python의 data Stucture를 사용가능하다.\n",
    "2. Easier debugging: Running중인 Model을 검토하거나 변경사항을 테스트하기 위하여 연산을 직접 호출하여 값을 확인 가능하다.(이전 Post에서 <code>.numpy()</code>를 통하여 값을 확인하면서 Data Pipeline을 잘 설정하였는지 확인하였다.)\n",
    "3. Natural control flow:Python의 control flow를 사용함으로 인하여 Tensorflow의 Graphic flow가 아니여서 사용자가 친숙하게 사용할 수 있다. (이전에서 Python의 Function을 설정하여 <code>@tf.function</code>을 통하여 Tensorflow Graph에서 사용가능하게 변경하거나 Tensor를 <code>.numpy()</code>로서 Numpy로 바꾸고 Function에서 연산처리를 하였다.)\n",
    "\n",
    "기본적으로 Tensorflow 2.0의 eager execution이 가능한지는 <code>tf.executing_eagerly()</code>로서 확인 가능하다."
   ]
  },
  {
   "cell_type": "code",
   "execution_count": 94,
   "metadata": {},
   "outputs": [
    {
     "data": {
      "text/plain": [
       "True"
      ]
     },
     "execution_count": 94,
     "metadata": {},
     "output_type": "execute_result"
    }
   ],
   "source": [
    "tf.executing_eagerly()"
   ]
  },
  {
   "cell_type": "markdown",
   "metadata": {},
   "source": [
    "#### Easier debugging\n",
    "위에서 Running중인 Model을 검토하거나 변경사항을 테스트하기 위하여 연산을 직접 호출하여 값을 확인하는 것이 가능하다고 하였다.  \n",
    "아래 예제는 이러한 기능을 나타낸 것이다.  \n",
    "주요한 점은 이러한 Tensor를 연산하거나 값을 확인하기 위하여 기본적으로 Numpy를 사용하므로 Numpy에 관한 사전지식이 필요하다는 것 이다.  \n",
    "\n",
    "**참고사항**  \n",
    "Eager execution의 기능을 제공하는 Tensor의 종류는 EagerTensor이다.  \n",
    "이러한 Eager Tensor는 텐서플로 연산을 바로 평가(Intuitive Interface)하고 그 결과를 파이썬에게 알려주는 방식으로 동작을 변경한다.  \n",
    "또한 이렇나 EagerTensor를 확인하기 위한 <code>print</code>나 Debugging은 Gradinet를 계산하는 흐름을 방해하지 않는다."
   ]
  },
  {
   "cell_type": "code",
   "execution_count": 95,
   "metadata": {},
   "outputs": [
    {
     "name": "stdout",
     "output_type": "stream",
     "text": [
      "<class 'tensorflow.python.framework.ops.EagerTensor'>\n",
      "tf.Tensor(\n",
      "[[1 2]\n",
      " [3 4]], shape=(2, 2), dtype=int32)\n",
      "tf.Tensor(\n",
      "[[2 3]\n",
      " [4 5]], shape=(2, 2), dtype=int32)\n",
      "tf.Tensor(\n",
      "[[ 2  6]\n",
      " [12 20]], shape=(2, 2), dtype=int32)\n",
      "[[ 2  6]\n",
      " [12 20]]\n",
      "[[1 2]\n",
      " [3 4]]\n"
     ]
    }
   ],
   "source": [
    "# Eager Tensor 선언 및 확인\n",
    "a = tf.constant([[1, 2],\n",
    "                 [3, 4]])\n",
    "print(type(a))\n",
    "print(a)\n",
    "\n",
    "# 브로드캐스팅(Broadcasting) 지원\n",
    "b = tf.add(a, 1)\n",
    "print(b)\n",
    "\n",
    "# 연산자 오버로딩 지원\n",
    "print(a * b)\n",
    "\n",
    "# Numpy 지원\n",
    "c = np.multiply(a, b)\n",
    "print(c)\n",
    "\n",
    "# 텐서로부터 numpy 값 얻기:\n",
    "print(a.numpy())"
   ]
  },
  {
   "cell_type": "markdown",
   "metadata": {},
   "source": [
    "#### Dynamic control flow\n",
    "**Eager execution**의 가장 큰 이점은 Model이 실행하는 동안에 호스트 언어(Python)의 모든 기능을 활용할 수 있다는 것 이다.  \n",
    "아래에서는 Tensor를 Python Function안에서 Numpy로서 변경하여 연산을 수행하는 과정이다.  \n",
    "**Tensor값에 따라서 조건문을 실행하게 되고 실행중에 그 결과를 출력(Tensor와 연산을 확인하기 위하여 session을 열고 Run한 뒤 결과를 확인 안하여도 된다.)한다.**"
   ]
  },
  {
   "cell_type": "code",
   "execution_count": 5,
   "metadata": {},
   "outputs": [
    {
     "name": "stdout",
     "output_type": "stream",
     "text": [
      "1\n",
      "2\n",
      "Fizz\n",
      "4\n",
      "Buzz\n",
      "Fizz\n",
      "7\n",
      "8\n",
      "Fizz\n",
      "Buzz\n",
      "11\n",
      "Fizz\n",
      "13\n",
      "14\n",
      "FizzBuzz\n"
     ]
    }
   ],
   "source": [
    "def fizzbuzz(max_num):\n",
    "    # Eager Tensor 선언\n",
    "    counter = tf.constant(0)\n",
    "    max_num = tf.convert_to_tensor(max_num)\n",
    "    # Eager Tensor를 .numpy()를 통하여 Python의 변수로서 변경\n",
    "    for num in range(1, max_num.numpy()+1):\n",
    "        # num을 Eager Tensor로서 변경\n",
    "        num = tf.constant(num)\n",
    "        # Eager Tensor를 조건문에 활용\n",
    "        if int(num % 3) == 0 and int(num % 5) == 0:\n",
    "            print('FizzBuzz')\n",
    "        elif int(num % 3) == 0:\n",
    "            print('Fizz')\n",
    "        elif int(num % 5) == 0:\n",
    "            print('Buzz')\n",
    "        else:\n",
    "            print(num.numpy())\n",
    "        counter += 1\n",
    "        \n",
    "fizzbuzz(15)"
   ]
  },
  {
   "cell_type": "markdown",
   "metadata": {},
   "source": [
    "#### Computing gradients\n",
    "**Automatic differentiation**은 Backpropagation수행을 하여 Weight Update시에 매우 유용하다.  \n",
    "**Eager execution은 <code>tf.GradientTape</code>을 활용하여 미분을 바로 수행하게 된다.**  \n",
    "주요한 점은 tape는 Forward의 모든 연산을 담고 있고 tape를 거꾸로 돌려서 Gradient를 계산하고 폐기한다. 또한 **tf.Gradient는 one gradient만 가능하고(즉, <a href=\"https://wjddyd66.github.io/tnesorflow2.0/Tensorflow2.0(1)/\">Pix2Pix</a>에서는 Generator, Discriminator 2개의 Model이 존재하므로 tf.Gradient 2개 선언) 이를 어길시 runtime error가 발생한다.**  \n",
    "\n",
    "위의 해결방안으로서 <code>persistent=True</code>의 Option을 주어서 여러번 tape를 호출하고 tape를 삭제하는 방법으로 구성해야 한다."
   ]
  },
  {
   "cell_type": "code",
   "execution_count": 6,
   "metadata": {},
   "outputs": [
    {
     "name": "stdout",
     "output_type": "stream",
     "text": [
      "tf.Tensor([[2.]], shape=(1, 1), dtype=float32)\n",
      "tf.Tensor([[6.]], shape=(1, 1), dtype=float32)\n",
      "tf.Tensor([[108.]], shape=(1, 1), dtype=float32)\n"
     ]
    }
   ],
   "source": [
    "# Tensor 선언\n",
    "w = tf.Variable([[1.0]])\n",
    "\n",
    "# Model및 Gradient선언\n",
    "with tf.GradientTape() as tape:\n",
    "    loss = w * w\n",
    "\n",
    "# Loss를 w에 대하여 미분\n",
    "grad = tape.gradient(loss, w)\n",
    "# 결과 확인\n",
    "print(grad)\n",
    "\n",
    "# Tensor 선언\n",
    "w = tf.Variable([[3.0]])\n",
    "\n",
    "# Model및 Gradient선언\n",
    "# persistent=True Option 없을 시 Gradinet 1번 밖에 계산 안됨\n",
    "with tf.GradientTape(persistent=True) as tape:\n",
    "    tape.watch(w)\n",
    "    loss = w * w\n",
    "    loss2 = loss * loss\n",
    "    \n",
    "\n",
    "# Gradient 2번 호출\n",
    "grad = tape.gradient(loss, w)\n",
    "grad2 = tape.gradient(loss2, w)\n",
    "\n",
    "# 결과 확인\n",
    "print(grad)\n",
    "print(grad2)\n",
    "\n",
    "# Tape 삭제\n",
    "del tape"
   ]
  },
  {
   "cell_type": "markdown",
   "metadata": {},
   "source": [
    "#### Train a model\n",
    "**Eager execution**을 사용하여 Model을 Build하고 Training하기 전에 결과를 확인할 수 있다."
   ]
  },
  {
   "cell_type": "code",
   "execution_count": 7,
   "metadata": {},
   "outputs": [
    {
     "name": "stdout",
     "output_type": "stream",
     "text": [
      "Logits:  [[-0.00472712  0.00080639 -0.00118288  0.03038134  0.02856171 -0.01731389\n",
      "  -0.00965177 -0.03106915  0.01488576  0.03678003]]\n"
     ]
    }
   ],
   "source": [
    "# 데이터셋 다운로드\n",
    "(mnist_images, mnist_labels), _ = tf.keras.datasets.mnist.load_data()\n",
    "\n",
    "# tf.data.Dataset Object로 변환 keras.layers.Conv2D를 위하여 tf.newaxis로서 Dimension 추가\n",
    "dataset = tf.data.Dataset.from_tensor_slices(\n",
    "    (tf.cast(mnist_images[...,tf.newaxis]/255, tf.float32),\n",
    "     tf.cast(mnist_labels,tf.int64)))\n",
    "\n",
    "# Shuffle 및 batch 처리\n",
    "dataset = dataset.shuffle(1000).batch(32)\n",
    "\n",
    "# Model 선언\n",
    "mnist_model = tf.keras.Sequential([\n",
    "  tf.keras.layers.Conv2D(16,[3,3], activation='relu',\n",
    "                         input_shape=(None, None, 1)),\n",
    "  tf.keras.layers.Conv2D(16,[3,3], activation='relu'),\n",
    "  tf.keras.layers.GlobalAveragePooling2D(),\n",
    "  tf.keras.layers.Dense(10)\n",
    "])\n",
    "\n",
    "'''\n",
    "Eager Execution을 통하여 Model 결과 확인\n",
    "위에서 Dataset Pipeline으로서 Batch를 32로서 선언하였기 때문에 하나의 결과를 확인하기 위해서는\n",
    "다음과 같이 images[0:1]로서 하나의 Image만은 Indexing하여 사용하여야 한다.\n",
    "'''\n",
    "for images,labels in dataset.take(1):\n",
    "    print(\"Logits: \", mnist_model(images[0:1]).numpy())"
   ]
  },
  {
   "cell_type": "markdown",
   "metadata": {},
   "source": [
    "#### Customizing Training Step\n",
    "이전 <a href=\"https://wjddyd66.github.io/categories/#keras\">Keras 관련 Post</a>에서는 <code>model.fit()</code>을 통하여 Training Loop를 작동시켰다.  \n",
    "하지만 아래 Code는 Tensorflow의 **tf.GradientTape**를 통하여 전체적인 Training과정을 선언하고 원하는 형태로 Customizing을 실시한다.  \n",
    "최종적으로 BackPropagation을 실시하기 위한 과정은 다음과 같다.  \n",
    "\n",
    "1. Optimizer(<code>tf.keras.optimizers.Adam()</code>), LossFunction(<code>tf.keras.losses.SparseCategoricalCrossentropy(from_logits=True)</code>) 선언\n",
    "2. Model 결과와 Label LossFunction 계산(<code>loss_object(labels, logits)</code>)\n",
    "3. Gradient 계산(<code>tape.gradient(loss_value, mnist_model.trainable_variables)</code>)\n",
    "4. Weight Update(<code>optimizer.apply_gradients(zip(grads, mnist_model.trainable_variables))</code>)\n",
    "\n",
    "<br>\n",
    "\n",
    "**<code>tf.debugging.assert_equal</code>**: 2개의 값이 같은지 비교하는 것 이다. Python의 assert와 같은 기능을 Tensorflow Training과정에서 수행한다고 생각하면 된다.  \n",
    "참조: <a href=\"https://www.tensorflow.org/api_docs/python/tf/debugging\">tf.debugging 사용법</a><br>\n",
    "참조: <a href=\"https://www.tensorflow.org/api_docs/python/tf/debugging/assert_equal?version=stable\">tf.debugging.assert_equal 사용법</a>"
   ]
  },
  {
   "cell_type": "code",
   "execution_count": 8,
   "metadata": {},
   "outputs": [
    {
     "name": "stdout",
     "output_type": "stream",
     "text": [
      "Epoch 0 finished\n",
      "Epoch 1 finished\n",
      "Epoch 2 finished\n"
     ]
    },
    {
     "data": {
      "text/plain": [
       "Text(0, 0.5, 'Loss [entropy]')"
      ]
     },
     "execution_count": 8,
     "metadata": {},
     "output_type": "execute_result"
    },
    {
     "data": {
      "image/png": "[encoded data removed]",
      "text/plain": [
       "<Figure size 432x288 with 1 Axes>"
      ]
     },
     "metadata": {
      "needs_background": "light"
     },
     "output_type": "display_data"
    }
   ],
   "source": [
    "# Optimizer 선언\n",
    "optimizer = tf.keras.optimizers.Adam()\n",
    "# Loss Function 선언\n",
    "loss_object = tf.keras.losses.SparseCategoricalCrossentropy(from_logits=True)\n",
    "# 결과 확인을 위한 History 선언\n",
    "loss_history = []\n",
    "\n",
    "def train_step(images, labels):\n",
    "    with tf.GradientTape() as tape:\n",
    "        logits = mnist_model(images, training=True)\n",
    "        \n",
    "        # Add asserts to check the shape of the output.\n",
    "        tf.debugging.assert_equal(logits.shape, (32, 10))\n",
    "        loss_value = loss_object(labels, logits)\n",
    "        \n",
    "    loss_history.append(loss_value.numpy().mean())\n",
    "    # 하나의 Backpropagation의 Set라고 생각하여도 된다. Gradient를 적용한 뒤 Backpropagation을 진행한다.\n",
    "    # 주요한점은 mnist_model.trainable_variables의 변수들을 Training하는 것 이므로 Model을 선언할 때\n",
    "    # Weight가 Update되지 않게 선언하면 Weight는 Training되지 않는다.\n",
    "    grads = tape.gradient(loss_value, mnist_model.trainable_variables)\n",
    "    optimizer.apply_gradients(zip(grads, mnist_model.trainable_variables))\n",
    "\n",
    "# Model Training\n",
    "def train(epochs):\n",
    "    for epoch in range(epochs):\n",
    "        for (batch, (images, labels)) in enumerate(dataset):\n",
    "            train_step(images, labels)\n",
    "        print ('Epoch {} finished'.format(epoch))        \n",
    "train(epochs = 3)\n",
    "\n",
    "# Loss History 시각화\n",
    "plt.plot(loss_history)\n",
    "plt.xlabel('Batch #')\n",
    "plt.ylabel('Loss [entropy]')"
   ]
  },
  {
   "cell_type": "markdown",
   "metadata": {},
   "source": [
    "#### tf.Variable\n",
    "Tensorflow 1.x에서 Keras를 활용하지 않으면 하나하나의 Weight와 x, y를 <code>tf.placehoder()</code>와 같이 선언하였다.  \n",
    "이러한 변수는 목적에 따라서 placeholder or constant ... 등과 같이 나타내였다.  \n",
    "Tensorflow 2.0에서는 변수를 변수형 Tensor(<code>tf.Variable</code>), 상수형 Tensor로서 통일하였다.(개인적으로 가장 편리했던 점 중 하나이다.)  \n",
    "위의 2개의 차이점은 매우 간단하다.\n",
    "- 변수형 Tensor: Training 도중에 Update되는 값\n",
    "- 상수형 Tensor: Training 도중에 Update되지 않는 값\n",
    "\n",
    "이러한 tf.Variable은 Function을 제공하거나 <code>tf.device()</code>를 통하여 dtype에 호환되는 가장 빠른 장치에 위치하게 된다.(만약 GPU가 사용가능하면 대부분의 변수들이 GPU에 자동적으로 위치하게 된다.)  \n",
    "\n",
    "**tf.Variable에 적용할 수 있는 함수는 매우 많기때문에 링크로서 남겨둡니다.**  \n",
    "참조: <a href=\"https://www.tensorflow.org/api_docs/python/tf/Variable?version=stable\">tf.Variable 사용법</a>"
   ]
  },
  {
   "cell_type": "code",
   "execution_count": 20,
   "metadata": {
    "scrolled": false
   },
   "outputs": [
    {
     "name": "stdout",
     "output_type": "stream",
     "text": [
      "[name: \"/device:CPU:0\"\n",
      "device_type: \"CPU\"\n",
      "memory_limit: 268435456\n",
      "locality {\n",
      "}\n",
      "incarnation: 9664270224173875647\n",
      ", name: \"/device:XLA_CPU:0\"\n",
      "device_type: \"XLA_CPU\"\n",
      "memory_limit: 17179869184\n",
      "locality {\n",
      "}\n",
      "incarnation: 9037400715621209074\n",
      "physical_device_desc: \"device: XLA_CPU device\"\n",
      ", name: \"/device:GPU:0\"\n",
      "device_type: \"GPU\"\n",
      "memory_limit: 3306291200\n",
      "locality {\n",
      "  bus_id: 1\n",
      "  links {\n",
      "  }\n",
      "}\n",
      "incarnation: 7436821505498120560\n",
      "physical_device_desc: \"device: 0, name: GeForce GTX 1050 Ti with Max-Q Design, pci bus id: 0000:01:00.0, compute capability: 6.1\"\n",
      ", name: \"/device:XLA_GPU:0\"\n",
      "device_type: \"XLA_GPU\"\n",
      "memory_limit: 17179869184\n",
      "locality {\n",
      "}\n",
      "incarnation: 4826601455677778066\n",
      "physical_device_desc: \"device: XLA_GPU device\"\n",
      "]\n",
      "\n",
      "<class 'tensorflow.python.framework.ops.EagerTensor'>\n",
      "1.0\n",
      "<tf.Variable 'Variable:0' shape=() dtype=float32, numpy=1.0>\n",
      "read_vlaue 사용 tf.Tensor(1.0, shape=(), dtype=float32)\n",
      "numpy 사용 1.0\n",
      "12\n",
      "<class 'tensorflow.python.ops.resource_variable_ops.ResourceVariable'>\n",
      "<class 'tensorflow.python.framework.ops.EagerTensor'>\n"
     ]
    }
   ],
   "source": [
    "# 사용가능한 Device 출력\n",
    "print(device_lib.list_local_devices())\n",
    "\n",
    "# tf.Variable 선언\n",
    "my_variable = tf.Variable(tf.zeros([1., 2., 3.]))\n",
    "\n",
    "print()\n",
    "# Variable GPU에 할당\n",
    "with tf.device(\"/gpu:0\"):\n",
    "    v = tf.Variable(tf.zeros([10, 10]))\n",
    "\n",
    "# tf.Variable 선언 및 연산 확인\n",
    "v = tf.Variable(0.0)\n",
    "w = v + 1\n",
    "print(type(w))\n",
    "print(w.numpy())\n",
    "\n",
    "# tf.Variable Function 적용\n",
    "v = tf.Variable(0.0)\n",
    "v.assign_add(1)\n",
    "print(v)\n",
    "\n",
    "# read_value를 사용하여 현재값 확인하기\n",
    "v = tf.Variable(0.0)\n",
    "v.assign_add(1)\n",
    "print('read_vlaue 사용',v.read_value())\n",
    "print('numpy 사용',v.numpy())\n",
    "\n",
    "# 변수 추적\n",
    "class MyModuleOne(tf.Module):\n",
    "    def __init__(self):\n",
    "        self.v0 = tf.Variable(1.0)\n",
    "        self.vs = [tf.Variable(x) for x in range(10)]\n",
    "    \n",
    "class MyOtherModule(tf.Module):\n",
    "    def __init__(self):\n",
    "        self.m = MyModuleOne()\n",
    "        self.v = tf.Variable(10.0)\n",
    "    \n",
    "m = MyOtherModule()\n",
    "print(len(m.variables))  # 12 = 1(self.v0) + 10(self.vs) + 1(self.v)\n",
    "\n",
    "\n",
    "# 변수형 Tensor(tf.Variable)\n",
    "s = tf.Variable(1.0)\n",
    "print(type(s))\n",
    "\n",
    "# 상수형 Tensor(Eager Tensor)\n",
    "s2 = tf.ones(2,1)\n",
    "print(type(s2))"
   ]
  },
  {
   "cell_type": "markdown",
   "metadata": {},
   "source": [
    "#### GradientTape2\n",
    "위에서 <code>tf.GradientTape</code>을 활용하여 미분을 바로 수행, Weight Update가 가능한 변수형 텐서, 불가능한 상수형 Tensor가 존재한다고 하였다.  \n",
    "만약 **상수형 텐서에 대해 미분하고 싶으면 <code>tape.watch()</code>함수를 사용하여 상수형 텐서를 변수형 텐서처럼 바꾸어야 한다.**"
   ]
  },
  {
   "cell_type": "code",
   "execution_count": 10,
   "metadata": {},
   "outputs": [
    {
     "name": "stdout",
     "output_type": "stream",
     "text": [
      "tf.Variable Type  <class 'tensorflow.python.ops.resource_variable_ops.ResourceVariable'>\n",
      "tf.constant Type  <class 'tensorflow.python.framework.ops.EagerTensor'>\n",
      "1.0\n",
      "True\n"
     ]
    }
   ],
   "source": [
    "# 변수형 Tensor\n",
    "x = tf.Variable(tf.constant(1.0))\n",
    "# 상수형 Tensor\n",
    "a = tf.constant(1.0)\n",
    "print('tf.Variable Type ',type(x))\n",
    "print('tf.constant Type ',type(a))\n",
    "\n",
    "with tf.GradientTape() as tape:\n",
    "    tape.watch(a)\n",
    "    y = tf.multiply(a, x)\n",
    "\n",
    "gradient = tape.gradient(y, a) \n",
    "print(gradient.numpy())\n",
    "\n",
    "# 아래 처럼 상수형 Tensor에 대해서 미분을 시도하면 Error 발생\n",
    "with tf.GradientTape() as tape:\n",
    "    y = tf.multiply(a, x)\n",
    "    \n",
    "gradient = tape.gradient(y, a) \n",
    "print(gradient is None)"
   ]
  },
  {
   "cell_type": "markdown",
   "metadata": {},
   "source": [
    "#### Variables and optimizer\n",
    "Tensorflow 2.0에서는 Keras를 활용하여 Model을 정의하게 된다.  \n",
    "아래 Code는 Keras에서 제공하는 Model을 선언하는 것이 아닌 사용자가 원하는 Model을 선언하는 방법이고 다음과 같은 순서로 진행된다.  \n",
    "**위에서 설명한 tf.Variable로서 선언하게 되면 Tensorflow의 1.x에서의 변수와 같이 Backpropagation을 쉽게 진행할 수 있다.**  \n",
    "\n",
    "1. Model 선언(tf.keras.Model을 상속받는다.)\n",
    "2. Optimizer, LossFunction선언\n",
    "3. Model에서 tf.variable로 선언한 변수를 Weight Update(<code>optimizer.apply_gradients(zip(grads, [model.W, model.B]))</code>)\n"
   ]
  },
  {
   "cell_type": "code",
   "execution_count": 11,
   "metadata": {},
   "outputs": [
    {
     "name": "stdout",
     "output_type": "stream",
     "text": [
      "초기 손실: 69.547\n",
      "스텝 000에서 손실: 66.818\n",
      "스텝 050에서 손실: 9.644\n",
      "스텝 100에서 손실: 2.150\n",
      "스텝 150에서 손실: 1.167\n",
      "스텝 200에서 손실: 1.038\n",
      "스텝 250에서 손실: 1.021\n",
      "최종 손실: 1.019\n",
      "W = 3.035815715789795, B = 2.001500368118286\n",
      "Model output(input = 1, Model=3x+2+noise) 5.0373163\n"
     ]
    }
   ],
   "source": [
    "class Model(tf.keras.Model):\n",
    "    def __init__(self):\n",
    "        super(Model, self).__init__()\n",
    "        self.W = tf.Variable(5., name='weight')\n",
    "        self.B = tf.Variable(10., name='bias')\n",
    "        \n",
    "    def call(self, inputs):\n",
    "        return inputs * self.W + self.B\n",
    "\n",
    "# Dataset은 대략 y=3x+2 로서 구성\n",
    "NUM_EXAMPLES = 2000\n",
    "training_inputs = tf.random.normal([NUM_EXAMPLES])\n",
    "noise = tf.random.normal([NUM_EXAMPLES])\n",
    "training_outputs = training_inputs * 3 + 2 + noise\n",
    "\n",
    "# 최적화할 손실함수\n",
    "def loss(model, inputs, targets):\n",
    "    error = model(inputs) - targets\n",
    "    return tf.reduce_mean(tf.square(error))\n",
    "\n",
    "def grad(model, inputs, targets):\n",
    "    with tf.GradientTape() as tape:\n",
    "        loss_value = loss(model, inputs, targets)\n",
    "    return tape.gradient(loss_value, [model.W, model.B])\n",
    "\n",
    "# 정의:\n",
    "# 1. 모델\n",
    "# 2. 모델 파라미터에 대한 손실 함수의 미분\n",
    "# 3. 미분에 기초한 변수 업데이트 전략\n",
    "model = Model()\n",
    "optimizer = tf.keras.optimizers.SGD(learning_rate=0.01)\n",
    "\n",
    "print(\"초기 손실: {:.3f}\".format(loss(model, training_inputs, training_outputs)))\n",
    "\n",
    "# 반복 훈련\n",
    "for i in range(300):\n",
    "    grads = grad(model, training_inputs, training_outputs)\n",
    "    optimizer.apply_gradients(zip(grads, [model.W, model.B]))\n",
    "    \n",
    "    if i % 50 == 0:\n",
    "        print(\"스텝 {:03d}에서 손실: {:.3f}\".format(i, loss(model, training_inputs, training_outputs)))\n",
    "\n",
    "print(\"최종 손실: {:.3f}\".format(loss(model, training_inputs, training_outputs)))\n",
    "print(\"W = {}, B = {}\".format(model.W.numpy(), model.B.numpy()))\n",
    "\n",
    "print('Model output(input = 1, Model=3x+2+noise)',model(1.).numpy())"
   ]
  },
  {
   "cell_type": "markdown",
   "metadata": {},
   "source": [
    "#### object-based saving\n",
    "사용자가 Customizing한 Model또한 tf.keras.Model을 상속받아 구현한 Model이므로 Training된 Model의 Wieghts(<code>tf.Variable</code>) 저장하고 불러올 수 있다."
   ]
  },
  {
   "cell_type": "code",
   "execution_count": 12,
   "metadata": {},
   "outputs": [
    {
     "name": "stdout",
     "output_type": "stream",
     "text": [
      "Not Training Model(y=3x+2+noise) 15.0\n",
      "Training Model(y=3x+2+noise) 5.0373163\n",
      "checkpoint\t\t     weights.data-00000-of-00002  weights.index\r\n",
      "weights.data-00000-of-00001  weights.data-00001-of-00002\r\n"
     ]
    }
   ],
   "source": [
    "# Customizing Model의 Weights(tf.Variable) 저장 및 불러오기\n",
    "model.save_weights('./Model/weights')\n",
    "model = Model()\n",
    "print('Not Training Model(y=3x+2+noise)',model(1.).numpy())\n",
    "model.load_weights('./Model/weights')\n",
    "print('Training Model(y=3x+2+noise)',model(1.).numpy())\n",
    "!ls ./Model/"
   ]
  },
  {
   "cell_type": "markdown",
   "metadata": {},
   "source": [
    "#### Object-oriented metrics\n",
    "<code>tf.keras.metrics</code>는 하나의 객체로서 사용자가 지정한 형태로의 지표로서 출력한다.  \n",
    "이전 Keras에서는 <code>model.compile()</code>의 Option중 하나로서 사용하였고 아래 Code는 Customizing한 Model에서 사용하는 방식이다.\n",
    "참조: <a href=\"https://www.tensorflow.org/api_docs/python/tf/keras/metrics\">tf.keras.metrics 사용법</a>"
   ]
  },
  {
   "cell_type": "code",
   "execution_count": 13,
   "metadata": {},
   "outputs": [
    {
     "name": "stdout",
     "output_type": "stream",
     "text": [
      "초기 손실: 69.547\n",
      "스텝 000에서 손실: 66.818\n",
      "스텝 050에서 손실: 9.644\n",
      "스텝 100에서 손실: 2.150\n",
      "스텝 150에서 손실: 1.167\n",
      "스텝 200에서 손실: 1.038\n",
      "스텝 250에서 손실: 1.021\n",
      "최종 손실: 1.019\n",
      "W = 3.035815715789795, B = 2.001500368118286\n",
      "Model output(input = 1, Model=3x+2+noise) 5.0373163\n",
      "tf.Tensor(6.5259175, shape=(), dtype=float32)\n",
      "6.5259175\n"
     ]
    }
   ],
   "source": [
    "model = Model()\n",
    "optimizer = tf.keras.optimizers.SGD(learning_rate=0.01)\n",
    "m = tf.keras.metrics.Mean(\"loss\")\n",
    "\n",
    "print(\"초기 손실: {:.3f}\".format(loss(model, training_inputs, training_outputs)))\n",
    "\n",
    "# 반복 훈련\n",
    "for i in range(300):\n",
    "    grads = grad(model, training_inputs, training_outputs)\n",
    "    optimizer.apply_gradients(zip(grads, [model.W, model.B]))\n",
    "    m(loss(model, training_inputs, training_outputs))\n",
    "    if i % 50 == 0:\n",
    "        print(\"스텝 {:03d}에서 손실: {:.3f}\".format(i, loss(model, training_inputs, training_outputs)))\n",
    "\n",
    "print(\"최종 손실: {:.3f}\".format(loss(model, training_inputs, training_outputs)))\n",
    "print(\"W = {}, B = {}\".format(model.W.numpy(), model.B.numpy()))\n",
    "\n",
    "print('Model output(input = 1, Model=3x+2+noise)',model(1.).numpy())\n",
    "\n",
    "\n",
    "print(m.result())\n",
    "print(m.result().numpy())"
   ]
  },
  {
   "cell_type": "markdown",
   "metadata": {},
   "source": [
    "#### Summaries and Tensorboard\n",
    "<code>tf.summary</code>를 통하여 Tensorboard를 통하여 Visualization할 변수를 저장한다.  \n",
    "확인하게 되면 events.out.tfevents File들이 선언되고 Tensorboard의 출력을 살펴보면 다음과 같디 Metrics의 결과가 저장되는 것을 살펴볼 수 있다.  \n",
    "<div><img src=\"https://raw.githubusercontent.com/wjddyd66/wjddyd66.github.io/master/static/img/Tensorflow/30.png\" height=\"100%\" width=\"100%\" /></div><br>"
   ]
  },
  {
   "cell_type": "code",
   "execution_count": 14,
   "metadata": {},
   "outputs": [
    {
     "name": "stdout",
     "output_type": "stream",
     "text": [
      "초기 손실: 69.547\n",
      "스텝 000에서 손실: 66.818\n",
      "스텝 050에서 손실: 9.644\n",
      "스텝 100에서 손실: 2.150\n",
      "스텝 150에서 손실: 1.167\n",
      "스텝 200에서 손실: 1.038\n",
      "스텝 250에서 손실: 1.021\n",
      ".\n",
      "..\n",
      "events.out.tfevents.1577333357.jyhwang-XPS-15-9570.32222.793404.v2\n",
      "events.out.tfevents.1577337029.jyhwang-XPS-15-9570.3949.685214.v2\n",
      "events.out.tfevents.1577337741.jyhwang-XPS-15-9570.7379.685521.v2\n",
      "Serving TensorBoard on localhost; to expose to the network, use a proxy or pass --bind_all\n",
      "TensorBoard 2.0.0 at http://localhost:6006/ (Press CTRL+C to quit)\n",
      "^C\n"
     ]
    }
   ],
   "source": [
    "model = Model()\n",
    "optimizer = tf.keras.optimizers.SGD(learning_rate=0.01)\n",
    "m = tf.keras.metrics.Mean(\"loss\")\n",
    "logdir = \"./tb/\"\n",
    "writer = tf.summary.create_file_writer(logdir)\n",
    "\n",
    "\n",
    "\n",
    "print(\"초기 손실: {:.3f}\".format(loss(model, training_inputs, training_outputs)))\n",
    "\n",
    "# 반복 훈련\n",
    "with writer.as_default():\n",
    "    for i in range(300):\n",
    "        grads = grad(model, training_inputs, training_outputs)\n",
    "        optimizer.apply_gradients(zip(grads, [model.W, model.B]))\n",
    "        m(loss(model, training_inputs, training_outputs))\n",
    "        if i % 50 == 0:\n",
    "            print(\"스텝 {:03d}에서 손실: {:.3f}\".format(i, loss(model, training_inputs, training_outputs)))\n",
    "            tf.summary.scalar('loss', m.result().numpy(), step=i)\n",
    "\n",
    "!ls -a {logdir}\n",
    "!tensorboard --logdir={logdir}"
   ]
  },
  {
   "cell_type": "markdown",
   "metadata": {},
   "source": [
    "#### Custom Gradients\n",
    "Gradinet를 Tensorflow에서 제공하는 것이 아닌 <code>@tf.custom_gradient</code>의 Decorator를 통하여 나타낼 수 있다.  \n",
    "중요한 점은 2가지 이다.  \n",
    "- 처음 Function은 Forward를 의미한다.\n",
    "- 두번째 Function은 Gradient를 Customizing할 수 있다. 이러한 Function은 (dy)의 값을 입력 받는다.\n",
    "\n",
    "식으로서 나타내면 다음과 같다.  \n",
    "**Not Customize Gradient**  \n",
    "처음은 <code>tf.GradientTape()</code>를 Customizing하지 않는다.  \n",
    "그러면 식은 다음과 같이 정의된다.  \n",
    "<p>$$y=3x^2, \\frac{\\partial y}{\\partial x} = 6x$$</p>\n",
    "따라서 x의 값에 100을 넣은 600의 값이 출력될 것이다.  \n",
    "\n",
    "**Customize Gradient**  \n",
    "<code>@tf.custom_graident</code>를 통하여 Gradient를 Customizing 한다.  \n",
    "그러면 식은 다음과 같이 정의된다.  \n",
    "<p>$$\\text{Forward:} y=3x^2$$</p>\n",
    "<code>grad(dy)</code>에서 dy를 Argument를 입력으로 받아서 Gradient를 계산한다.  \n",
    "\n",
    "**grad_example_1**  \n",
    "아래 grad_example_1은 다음과 같은 순서로 작동된다.\n",
    "- <code>tape.watch(x)</code>: 입력변수가 상수형 Tensor이므로 필요한 Code\n",
    "- <code>value = custom(x)</code>: custom Function에서 Forward를 수행한다.\n",
    "- <code>tape.gradient(value, x)</code>: custom Function에서 grad를 수행한다. dy의 값은 <span>$dy = \\frac{\\partial y}{\\partial y} = 1$</span>이다.\n",
    "\n",
    "**grad_example_2**  \n",
    "아래 grad_example_2은 다음과 같은 순서로 작동된다.\n",
    "- <code>tape.watch(x)</code>: 입력변수가 상수형 Tensor이므로 필요한 Code\n",
    "- <code>value = custom(x)</code>: custom Function에서 Forward를 수행한다.\n",
    "- <code>value = value*value</code>: <span>$y = y^2$</span>\n",
    "- <code>tape.gradient(value, x)</code>: custom Function에서 grad를 수행한다. dy의 값은 <span>$dy = \\frac{\\partial y^2}{\\partial y} = 2y = 2*300 = 600$</span>이다.\n",
    "\n"
   ]
  },
  {
   "cell_type": "code",
   "execution_count": 92,
   "metadata": {},
   "outputs": [
    {
     "name": "stdout",
     "output_type": "stream",
     "text": [
      "X = tf.constant(100.)\n",
      "Y = 3x^2\n",
      "\n",
      "Not Customize Gradient\n",
      "600.0\n",
      "\n",
      "Custom_gradient\n",
      "<class 'tensorflow.python.framework.ops.EagerTensor'>\n",
      "Start\n",
      "Forward Type:  <class 'tensorflow.python.framework.ops.EagerTensor'> Forward value 300.0\n",
      "Value Type:  <class 'tensorflow.python.framework.ops.EagerTensor'> Value value 300.0\n",
      "Grad Start\n",
      "dy Type:  <class 'tensorflow.python.framework.ops.EagerTensor'> dy value 1.0\n",
      "<class 'tensorflow.python.framework.ops.EagerTensor'>\n",
      "300.0\n",
      "<class 'tensorflow.python.framework.ops.EagerTensor'>\n",
      "Start\n",
      "Forward Type:  <class 'tensorflow.python.framework.ops.EagerTensor'> Forward value 300.0\n",
      "Value Type:  <class 'tensorflow.python.framework.ops.EagerTensor'> Value value 90000.0\n",
      "Grad Start\n",
      "dy Type:  <class 'tensorflow.python.framework.ops.EagerTensor'> dy value 600.0\n",
      "<class 'tensorflow.python.framework.ops.EagerTensor'>\n",
      "180000.0\n"
     ]
    }
   ],
   "source": [
    "print('X = tf.constant(100.)')\n",
    "print('Y = 3x^2')\n",
    "print()\n",
    "print('Not Customize Gradient')\n",
    "\n",
    "x = tf.constant(100.)\n",
    "with tf.GradientTape() as tape:\n",
    "    tape.watch(x)\n",
    "    y = 3*x*x\n",
    "    print(tape.gradient(y,x).numpy())\n",
    "\n",
    "print()\n",
    "print('Custom_gradient')\n",
    "\n",
    "@tf.custom_gradient\n",
    "def custom(x):\n",
    "    print('Start')\n",
    "    forward = 3*x*x\n",
    "    print('Forward Type: ', type(forward),'Forward value', forward.numpy())\n",
    "    \n",
    "    def grad(dy):\n",
    "        print('Grad Start')\n",
    "        print('dy Type: ', type(dy),'dy value', dy.numpy())\n",
    "        return dy * forward\n",
    "    return forward, grad\n",
    "\n",
    "def grad_example_1(x):\n",
    "    print(type(x))\n",
    "    with tf.GradientTape() as tape:\n",
    "        tape.watch(x)\n",
    "        value = custom(x)\n",
    "        #value = value*value\n",
    "        print('Value Type: ', type(value),'Value value', value.numpy())\n",
    "    return tape.gradient(value, x)\n",
    "\n",
    "def grad_example_2(x):\n",
    "    print(type(x))\n",
    "    with tf.GradientTape() as tape:\n",
    "        tape.watch(x)\n",
    "        value = log1pexp(x)\n",
    "        value = value*value\n",
    "        print('Value Type: ', type(value),'Value value', value.numpy())\n",
    "    return tape.gradient(value, x)\n",
    "\n",
    "grad1 = grad_example_1(tf.constant(10.))\n",
    "print(type(grad1))\n",
    "print(grad1.numpy())\n",
    "\n",
    "grad2 = grad_example_2(tf.constant(10.))\n",
    "print(type(grad2))\n",
    "print(grad2.numpy())"
   ]
  },
  {
   "cell_type": "markdown",
   "metadata": {},
   "source": [
    "#### Performance\n",
    "Eager Execution을 수행할때 CPU와 GPU속도 차이를 계산한다.\n",
    "각각의 Device는 <code>tf.device()</code>로서 선언할 수 있고 여러개의 CPU나 GPU를 사용하는 경우 각각의 GPU와 CPU에게 작업을 할당할 수 있다."
   ]
  },
  {
   "cell_type": "code",
   "execution_count": 22,
   "metadata": {},
   "outputs": [
    {
     "name": "stdout",
     "output_type": "stream",
     "text": [
      "(1000, 1000) 크기 행렬을 자기 자신과 200번 곱했을 때 걸리는 시간:\n",
      "CPU: 0.8723616600036621 초\n",
      "GPU: 0.24282073974609375 초\n"
     ]
    }
   ],
   "source": [
    "def measure(x, steps):\n",
    "    tf.matmul(x, x)\n",
    "    start = time.time()\n",
    "    for i in range(steps):\n",
    "        x = tf.matmul(x, x)\n",
    "    _ = x.numpy()\n",
    "    end = time.time()\n",
    "    return end - start\n",
    "\n",
    "shape = (1000, 1000)\n",
    "steps = 200\n",
    "print(\"{} 크기 행렬을 자기 자신과 {}번 곱했을 때 걸리는 시간:\".format(shape, steps))\n",
    "\n",
    "# CPU에서 실행:\n",
    "with tf.device(\"/cpu:0\"):\n",
    "    print(\"CPU: {} 초\".format(measure(tf.random.normal(shape), steps)))\n",
    "\n",
    "# GPU에서 실행이 가능하다면\n",
    "if tf.test.is_gpu_available():\n",
    "    # GPU 처음 Device를 사용하여 계산\n",
    "    with tf.device(\"/gpu:0\"):\n",
    "        print(\"GPU: {} 초\".format(measure(tf.random.normal(shape), steps)))"
   ]
  }
 ],
 "metadata": {
  "kernelspec": {
   "display_name": "Python 3",
   "language": "python",
   "name": "python3"
  },
  "language_info": {
   "codemirror_mode": {
    "name": "ipython",
    "version": 3
   },
   "file_extension": ".py",
   "mimetype": "text/x-python",
   "name": "python",
   "nbconvert_exporter": "python",
   "pygments_lexer": "ipython3",
   "version": "3.7.4"
  }
 },
 "nbformat": 4,
 "nbformat_minor": 2
}
